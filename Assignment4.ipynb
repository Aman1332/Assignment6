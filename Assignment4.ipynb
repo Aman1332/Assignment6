{
 "cells": [
  {
   "cell_type": "code",
   "execution_count": 41,
   "id": "3a5054db-da77-472d-808b-caac1b56d1b3",
   "metadata": {},
   "outputs": [],
   "source": [
    "# Q1=Write a program to accept percentage from the user and display the grade according to the following criteria:"
   ]
  },
  {
   "cell_type": "code",
   "execution_count": 35,
   "id": "80b73784-4955-40da-885f-d7c853d71bb7",
   "metadata": {},
   "outputs": [
    {
     "name": "stdin",
     "output_type": "stream",
     "text": [
      "enter your marks 85\n"
     ]
    },
    {
     "name": "stdout",
     "output_type": "stream",
     "text": [
      "Grade B\n"
     ]
    }
   ],
   "source": [
    "marks=int(input(\"enter your marks\"))\n",
    "if marks>90:\n",
    "    print(\"Grade A\")\n",
    "elif marks>80 and marks<=90:\n",
    "    print(\"Grade B\")\n",
    "elif marks>=60 and marks<=80:\n",
    "    print(\"Grade C\")\n",
    "else:\n",
    "    print(\"Grade D\")\n",
    "    "
   ]
  },
  {
   "cell_type": "code",
   "execution_count": 43,
   "id": "f3073e7e-1290-4934-b7c8-4141932449b3",
   "metadata": {},
   "outputs": [],
   "source": [
    "# Q2=Write a program to accept the cost price of a bike and display the road tax to be paid according to the following criteria:"
   ]
  },
  {
   "cell_type": "code",
   "execution_count": 45,
   "id": "d5a3548e-d27d-488a-951e-ebba3ba9bf91",
   "metadata": {},
   "outputs": [
    {
     "name": "stdin",
     "output_type": "stream",
     "text": [
      "enter your marks 20000\n"
     ]
    },
    {
     "name": "stdout",
     "output_type": "stream",
     "text": [
      "Tax is 5%\n"
     ]
    }
   ],
   "source": [
    "c_p=int(input(\"enter your marks\"))\n",
    "if c_p>100000:\n",
    "    print(\"Tax is 15%\")\n",
    "elif c_p>50000 and c_p<=100000:\n",
    "    print(\"Tax is 10%\")\n",
    "elif c_p<=50000:\n",
    "    print(\"Tax is 5%\")\n",
    "    "
   ]
  },
  {
   "cell_type": "code",
   "execution_count": 47,
   "id": "f3a46faa-0838-4439-b710-0b910c970204",
   "metadata": {},
   "outputs": [],
   "source": [
    "# Q3=Accept any city from the user and display monuments of that city."
   ]
  },
  {
   "cell_type": "code",
   "execution_count": 49,
   "id": "358835d6-c730-4f11-9581-af3834fda522",
   "metadata": {},
   "outputs": [
    {
     "name": "stdin",
     "output_type": "stream",
     "text": [
      "enter city name Agra\n"
     ]
    },
    {
     "name": "stdout",
     "output_type": "stream",
     "text": [
      "Taj Mahal\n"
     ]
    }
   ],
   "source": [
    "city=str(input(\"enter city name\"))\n",
    "if city=='Delhi':\n",
    "    print(\"Red Fort\")\n",
    "elif city=='Agra':\n",
    "    print(\"Taj Mahal\")\n",
    "elif city=='Jaipur':\n",
    "    print(\"Jal Mahal\")"
   ]
  },
  {
   "cell_type": "code",
   "execution_count": 51,
   "id": "5ff26e01-5ed9-4a2b-8e33-b73572090546",
   "metadata": {},
   "outputs": [],
   "source": [
    "# Q4=Check how many times a given number can be divided by 3 before it is less than or equal to 10."
   ]
  },
  {
   "cell_type": "code",
   "execution_count": 53,
   "id": "bfa605c1-03cc-4de9-8a67-8e53a7108417",
   "metadata": {},
   "outputs": [
    {
     "name": "stdin",
     "output_type": "stream",
     "text": [
      "enter number 6\n"
     ]
    },
    {
     "name": "stdout",
     "output_type": "stream",
     "text": [
      "2.0\n"
     ]
    }
   ],
   "source": [
    "number=int(input(\"enter number\"))\n",
    "if number<=10:\n",
    "    Ans=number/3\n",
    "    print(Ans)"
   ]
  },
  {
   "cell_type": "code",
   "execution_count": 1,
   "id": "7e8b21a4-ebf4-4a14-a607-acce3a286b23",
   "metadata": {},
   "outputs": [],
   "source": [
    "# Q5=Why and when to use while loop in python give a detailed description with example."
   ]
  },
  {
   "cell_type": "code",
   "execution_count": null,
   "id": "36fbde00-b569-4f1f-aba1-74c8973a83c1",
   "metadata": {},
   "outputs": [],
   "source": [
    "# Ans=\n",
    "# Python While Loop is used to execute a block of statements repeatedly until a \n",
    "# given condition is satisfied. When the condition becomes false, the line \n",
    "# immediately after the loop in the program is executed."
   ]
  },
  {
   "cell_type": "code",
   "execution_count": null,
   "id": "5fa547e7-8d41-490a-8485-99d7d502c20f",
   "metadata": {},
   "outputs": [],
   "source": [
    "#Q6= Use nested while loop to print 3 different pattern."
   ]
  },
  {
   "cell_type": "code",
   "execution_count": 67,
   "id": "2382084e-1d91-4061-9f87-f1fc363d0b80",
   "metadata": {},
   "outputs": [
    {
     "name": "stdout",
     "output_type": "stream",
     "text": [
      "*********\n",
      "********\n",
      "*******\n",
      "******\n",
      "*****\n",
      "****\n",
      "***\n",
      "**\n",
      "*\n"
     ]
    }
   ],
   "source": [
    "# Eg->1\n",
    "i=1\n",
    "while i<10:\n",
    "    j=i\n",
    "    while j<10:\n",
    "        print(f\"*\",end=\"\")\n",
    "        j=j+1\n",
    "    print(\"\")\n",
    "    i=i+1   "
   ]
  },
  {
   "cell_type": "code",
   "execution_count": 65,
   "id": "b8d6ae61-8064-4c86-880f-e7e51c62dc61",
   "metadata": {},
   "outputs": [
    {
     "name": "stdout",
     "output_type": "stream",
     "text": [
      "*\n",
      "**\n",
      "***\n",
      "****\n",
      "*****\n",
      "******\n",
      "*******\n",
      "********\n",
      "*********\n"
     ]
    }
   ],
   "source": [
    "# Eg->2\n",
    "i=10\n",
    "while i>1:\n",
    "    j=i-1\n",
    "    while j<10:\n",
    "        print(f\"*\",end=\"\")\n",
    "        j=j+1\n",
    "    print(\"\")\n",
    "    i=i-1    "
   ]
  },
  {
   "cell_type": "code",
   "execution_count": 63,
   "id": "215ae8e9-2b64-4452-932b-cf13b8b5e91d",
   "metadata": {},
   "outputs": [
    {
     "name": "stdout",
     "output_type": "stream",
     "text": [
      "*********\n",
      "*********\n",
      "*********\n",
      "*********\n",
      "*********\n",
      "*********\n",
      "*********\n",
      "*********\n",
      "*********\n"
     ]
    }
   ],
   "source": [
    "# Eg->3\n",
    "i=1\n",
    "while i<10:\n",
    "    j=1\n",
    "    while j<10:\n",
    "        print(f\"*\",end=\"\")\n",
    "        j=j+1\n",
    "    print(\"\")\n",
    "    i=i+1"
   ]
  },
  {
   "cell_type": "code",
   "execution_count": 55,
   "id": "969ef7bf-13d2-4893-8955-b9df7d0d9bfe",
   "metadata": {},
   "outputs": [],
   "source": [
    "# Q7=Reverse a while loop to display numbers from 10 to 1."
   ]
  },
  {
   "cell_type": "code",
   "execution_count": 57,
   "id": "c12fb401-3d69-4837-bbcf-8944c93061aa",
   "metadata": {},
   "outputs": [
    {
     "name": "stdout",
     "output_type": "stream",
     "text": [
      "10\n",
      "9\n",
      "8\n",
      "7\n",
      "6\n",
      "5\n",
      "4\n",
      "3\n",
      "2\n",
      "1\n"
     ]
    }
   ],
   "source": [
    "i=10\n",
    "while i>=1:\n",
    "    print(i)\n",
    "    i=i-1"
   ]
  },
  {
   "cell_type": "code",
   "execution_count": 59,
   "id": "f47a05b0-7230-4991-9c58-0fc21e34c71e",
   "metadata": {},
   "outputs": [],
   "source": [
    "# Q8=Reverse a while loop to display numbers from 10 to 1."
   ]
  },
  {
   "cell_type": "code",
   "execution_count": 61,
   "id": "a6f7c79a-cbad-4f52-8d09-0cfec6b5c83c",
   "metadata": {},
   "outputs": [
    {
     "name": "stdout",
     "output_type": "stream",
     "text": [
      "10\n",
      "9\n",
      "8\n",
      "7\n",
      "6\n",
      "5\n",
      "4\n",
      "3\n",
      "2\n",
      "1\n"
     ]
    }
   ],
   "source": [
    "i=10\n",
    "while i>=1:\n",
    "    print(i)\n",
    "    i=i-1"
   ]
  },
  {
   "cell_type": "code",
   "execution_count": null,
   "id": "ef41034c-b47f-488b-8109-1ea072b86057",
   "metadata": {},
   "outputs": [],
   "source": []
  }
 ],
 "metadata": {
  "kernelspec": {
   "display_name": "Python 3 (ipykernel)",
   "language": "python",
   "name": "python3"
  },
  "language_info": {
   "codemirror_mode": {
    "name": "ipython",
    "version": 3
   },
   "file_extension": ".py",
   "mimetype": "text/x-python",
   "name": "python",
   "nbconvert_exporter": "python",
   "pygments_lexer": "ipython3",
   "version": "3.12.4"
  }
 },
 "nbformat": 4,
 "nbformat_minor": 5
}
